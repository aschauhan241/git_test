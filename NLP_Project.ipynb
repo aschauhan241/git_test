{
  "cells": [
    {
      "cell_type": "markdown",
      "metadata": {
        "id": "view-in-github",
        "colab_type": "text"
      },
      "source": [
        "<a href=\"https://colab.research.google.com/github/aschauhan241/git_test/blob/main/NLP_Project.ipynb\" target=\"_parent\"><img src=\"https://colab.research.google.com/assets/colab-badge.svg\" alt=\"Open In Colab\"/></a>"
      ]
    },
    {
      "cell_type": "markdown",
      "metadata": {
        "id": "PImAfBkgc3TX"
      },
      "source": [
        "# Importing Libraries"
      ]
    },
    {
      "cell_type": "markdown",
      "source": [
        "#About the dataset\n",
        "\n",
        "The dataset is of a cricket which\n",
        "consists of 2900 comments, collected from online news sites.\n",
        "They collect the data of cricket dataset from two facebook\n",
        "pages of two renowned news platforms in BBC\n",
        "Bangla News and Prothom Alo Newspaper.\n",
        "The dataset focuses mainly 3 aspects: positive,negative,neutral.\n"
      ],
      "metadata": {
        "id": "YcRxQQuqkrlo"
      }
    },
    {
      "cell_type": "code",
      "execution_count": null,
      "metadata": {
        "colab": {
          "base_uri": "https://localhost:8080/"
        },
        "id": "ovedxcXFc3Td",
        "outputId": "042c3e0a-aac2-4cba-f2c4-ca3367a7e8c1"
      },
      "outputs": [
        {
          "output_type": "stream",
          "name": "stdout",
          "text": [
            "Looking in indexes: https://pypi.org/simple, https://us-python.pkg.dev/colab-wheels/public/simple/\n",
            "Requirement already satisfied: unidecode in /usr/local/lib/python3.7/dist-packages (1.3.6)\n",
            "Looking in indexes: https://pypi.org/simple, https://us-python.pkg.dev/colab-wheels/public/simple/\n",
            "Requirement already satisfied: openpyxl in /usr/local/lib/python3.7/dist-packages (3.0.10)\n",
            "Requirement already satisfied: et-xmlfile in /usr/local/lib/python3.7/dist-packages (from openpyxl) (1.1.0)\n"
          ]
        }
      ],
      "source": [
        "import numpy as np\n",
        "import pandas as pd \n",
        "import seaborn as sns\n",
        "import matplotlib.pyplot as plt\n",
        "\n",
        "import sklearn\n",
        "from sklearn.preprocessing import LabelEncoder\n",
        "\n",
        "!pip install unidecode\n",
        "!pip install openpyxl\n",
        "\n",
        "import pandas as pd\n",
        "from pandas import read_excel\n",
        "import numpy as np\n",
        "import re\n",
        "from re import sub\n",
        "import multiprocessing\n",
        "from unidecode import unidecode\n",
        "import os\n",
        "from time import time \n",
        "import tensorflow as tf\n",
        "from tensorflow.keras.models import Sequential\n",
        "from tensorflow.keras.layers import Dense, Dropout, Activation, Embedding, Flatten, Conv1D, BatchNormalization\n",
        "from tensorflow.keras.optimizers import SGD,Adam\n",
        "from tensorflow.keras import regularizers\n",
        "from tensorflow.keras.preprocessing.text import Tokenizer\n",
        "from tensorflow.keras.preprocessing.sequence import pad_sequences\n",
        "from tensorflow.keras.utils import to_categorical\n",
        "import tensorflow.keras.backend as K\n",
        "import h5py\n",
        "import csv\n",
        "import seaborn as sns\n",
        "import matplotlib.pyplot as plt\n",
        "from sklearn.model_selection import train_test_split\n",
        "from sklearn.model_selection import StratifiedKFold\n",
        "\n"
      ]
    },
    {
      "cell_type": "code",
      "source": [
        "from google.colab import drive\n",
        "drive.mount('/content/drive')"
      ],
      "metadata": {
        "colab": {
          "base_uri": "https://localhost:8080/"
        },
        "id": "cmVFHO6TgK-O",
        "outputId": "f8101758-042f-475b-981d-67f47540ee66"
      },
      "execution_count": null,
      "outputs": [
        {
          "output_type": "stream",
          "name": "stdout",
          "text": [
            "Drive already mounted at /content/drive; to attempt to forcibly remount, call drive.mount(\"/content/drive\", force_remount=True).\n"
          ]
        }
      ]
    },
    {
      "cell_type": "code",
      "execution_count": null,
      "metadata": {
        "colab": {
          "base_uri": "https://localhost:8080/",
          "height": 206
        },
        "id": "CVYubXvzc3Th",
        "outputId": "4631ede5-b598-4fb8-f8f5-d90ea39f91fe"
      },
      "outputs": [
        {
          "output_type": "execute_result",
          "data": {
            "text/plain": [
              "       Source                 Date  \\\n",
              "0  BBC Bangla  2018-06-03 00:00:00   \n",
              "1  BBC Bangla  2018-06-04 00:00:00   \n",
              "2  BBC Bangla            15/6/2017   \n",
              "3  BBC Bangla            15/6/2020   \n",
              "4  BBC Bangla            27/1/2018   \n",
              "\n",
              "                                                Text Category  Polarity  \n",
              "0  জয় বাংলা কাপ! তাও আবার স্বাধীনতার মাস মার্চে। ...    other  positive  \n",
              "1  জয় বাংলা কাপ! তাও আবার স্বাধীনতার মাস মার্চে। ...     team  positive  \n",
              "2               বাংলাদেশের পরে ভারতের সাপর্ট ই করি ?     team  positive  \n",
              "3                              সৌম্যকে বাদ দেওয়া হোক  batting  negative  \n",
              "4  প্রথমটি হচ্ছে, কোচ অত:পর সাকিব,সাকিব আর সাকিবর...     team  positive  "
            ],
            "text/html": [
              "\n",
              "  <div id=\"df-e610f3d5-0bb0-4ddd-a225-044166db413d\">\n",
              "    <div class=\"colab-df-container\">\n",
              "      <div>\n",
              "<style scoped>\n",
              "    .dataframe tbody tr th:only-of-type {\n",
              "        vertical-align: middle;\n",
              "    }\n",
              "\n",
              "    .dataframe tbody tr th {\n",
              "        vertical-align: top;\n",
              "    }\n",
              "\n",
              "    .dataframe thead th {\n",
              "        text-align: right;\n",
              "    }\n",
              "</style>\n",
              "<table border=\"1\" class=\"dataframe\">\n",
              "  <thead>\n",
              "    <tr style=\"text-align: right;\">\n",
              "      <th></th>\n",
              "      <th>Source</th>\n",
              "      <th>Date</th>\n",
              "      <th>Text</th>\n",
              "      <th>Category</th>\n",
              "      <th>Polarity</th>\n",
              "    </tr>\n",
              "  </thead>\n",
              "  <tbody>\n",
              "    <tr>\n",
              "      <th>0</th>\n",
              "      <td>BBC Bangla</td>\n",
              "      <td>2018-06-03 00:00:00</td>\n",
              "      <td>জয় বাংলা কাপ! তাও আবার স্বাধীনতার মাস মার্চে। ...</td>\n",
              "      <td>other</td>\n",
              "      <td>positive</td>\n",
              "    </tr>\n",
              "    <tr>\n",
              "      <th>1</th>\n",
              "      <td>BBC Bangla</td>\n",
              "      <td>2018-06-04 00:00:00</td>\n",
              "      <td>জয় বাংলা কাপ! তাও আবার স্বাধীনতার মাস মার্চে। ...</td>\n",
              "      <td>team</td>\n",
              "      <td>positive</td>\n",
              "    </tr>\n",
              "    <tr>\n",
              "      <th>2</th>\n",
              "      <td>BBC Bangla</td>\n",
              "      <td>15/6/2017</td>\n",
              "      <td>বাংলাদেশের পরে ভারতের সাপর্ট ই করি ?</td>\n",
              "      <td>team</td>\n",
              "      <td>positive</td>\n",
              "    </tr>\n",
              "    <tr>\n",
              "      <th>3</th>\n",
              "      <td>BBC Bangla</td>\n",
              "      <td>15/6/2020</td>\n",
              "      <td>সৌম্যকে বাদ দেওয়া হোক</td>\n",
              "      <td>batting</td>\n",
              "      <td>negative</td>\n",
              "    </tr>\n",
              "    <tr>\n",
              "      <th>4</th>\n",
              "      <td>BBC Bangla</td>\n",
              "      <td>27/1/2018</td>\n",
              "      <td>প্রথমটি হচ্ছে, কোচ অত:পর সাকিব,সাকিব আর সাকিবর...</td>\n",
              "      <td>team</td>\n",
              "      <td>positive</td>\n",
              "    </tr>\n",
              "  </tbody>\n",
              "</table>\n",
              "</div>\n",
              "      <button class=\"colab-df-convert\" onclick=\"convertToInteractive('df-e610f3d5-0bb0-4ddd-a225-044166db413d')\"\n",
              "              title=\"Convert this dataframe to an interactive table.\"\n",
              "              style=\"display:none;\">\n",
              "        \n",
              "  <svg xmlns=\"http://www.w3.org/2000/svg\" height=\"24px\"viewBox=\"0 0 24 24\"\n",
              "       width=\"24px\">\n",
              "    <path d=\"M0 0h24v24H0V0z\" fill=\"none\"/>\n",
              "    <path d=\"M18.56 5.44l.94 2.06.94-2.06 2.06-.94-2.06-.94-.94-2.06-.94 2.06-2.06.94zm-11 1L8.5 8.5l.94-2.06 2.06-.94-2.06-.94L8.5 2.5l-.94 2.06-2.06.94zm10 10l.94 2.06.94-2.06 2.06-.94-2.06-.94-.94-2.06-.94 2.06-2.06.94z\"/><path d=\"M17.41 7.96l-1.37-1.37c-.4-.4-.92-.59-1.43-.59-.52 0-1.04.2-1.43.59L10.3 9.45l-7.72 7.72c-.78.78-.78 2.05 0 2.83L4 21.41c.39.39.9.59 1.41.59.51 0 1.02-.2 1.41-.59l7.78-7.78 2.81-2.81c.8-.78.8-2.07 0-2.86zM5.41 20L4 18.59l7.72-7.72 1.47 1.35L5.41 20z\"/>\n",
              "  </svg>\n",
              "      </button>\n",
              "      \n",
              "  <style>\n",
              "    .colab-df-container {\n",
              "      display:flex;\n",
              "      flex-wrap:wrap;\n",
              "      gap: 12px;\n",
              "    }\n",
              "\n",
              "    .colab-df-convert {\n",
              "      background-color: #E8F0FE;\n",
              "      border: none;\n",
              "      border-radius: 50%;\n",
              "      cursor: pointer;\n",
              "      display: none;\n",
              "      fill: #1967D2;\n",
              "      height: 32px;\n",
              "      padding: 0 0 0 0;\n",
              "      width: 32px;\n",
              "    }\n",
              "\n",
              "    .colab-df-convert:hover {\n",
              "      background-color: #E2EBFA;\n",
              "      box-shadow: 0px 1px 2px rgba(60, 64, 67, 0.3), 0px 1px 3px 1px rgba(60, 64, 67, 0.15);\n",
              "      fill: #174EA6;\n",
              "    }\n",
              "\n",
              "    [theme=dark] .colab-df-convert {\n",
              "      background-color: #3B4455;\n",
              "      fill: #D2E3FC;\n",
              "    }\n",
              "\n",
              "    [theme=dark] .colab-df-convert:hover {\n",
              "      background-color: #434B5C;\n",
              "      box-shadow: 0px 1px 3px 1px rgba(0, 0, 0, 0.15);\n",
              "      filter: drop-shadow(0px 1px 2px rgba(0, 0, 0, 0.3));\n",
              "      fill: #FFFFFF;\n",
              "    }\n",
              "  </style>\n",
              "\n",
              "      <script>\n",
              "        const buttonEl =\n",
              "          document.querySelector('#df-e610f3d5-0bb0-4ddd-a225-044166db413d button.colab-df-convert');\n",
              "        buttonEl.style.display =\n",
              "          google.colab.kernel.accessAllowed ? 'block' : 'none';\n",
              "\n",
              "        async function convertToInteractive(key) {\n",
              "          const element = document.querySelector('#df-e610f3d5-0bb0-4ddd-a225-044166db413d');\n",
              "          const dataTable =\n",
              "            await google.colab.kernel.invokeFunction('convertToInteractive',\n",
              "                                                     [key], {});\n",
              "          if (!dataTable) return;\n",
              "\n",
              "          const docLinkHtml = 'Like what you see? Visit the ' +\n",
              "            '<a target=\"_blank\" href=https://colab.research.google.com/notebooks/data_table.ipynb>data table notebook</a>'\n",
              "            + ' to learn more about interactive tables.';\n",
              "          element.innerHTML = '';\n",
              "          dataTable['output_type'] = 'display_data';\n",
              "          await google.colab.output.renderOutput(dataTable, element);\n",
              "          const docLink = document.createElement('div');\n",
              "          docLink.innerHTML = docLinkHtml;\n",
              "          element.appendChild(docLink);\n",
              "        }\n",
              "      </script>\n",
              "    </div>\n",
              "  </div>\n",
              "  "
            ]
          },
          "metadata": {},
          "execution_count": 7
        }
      ],
      "source": [
        "dataset_cricket = pd.read_excel(io=\"/content/drive/MyDrive/NLP_Project/Cricket.xlsx\", sheet_name=\"Sheet1\", engine='openpyxl')\n",
        "dataset_cricket.head()"
      ]
    },
    {
      "cell_type": "code",
      "execution_count": null,
      "metadata": {
        "colab": {
          "base_uri": "https://localhost:8080/",
          "height": 351
        },
        "id": "NZckRJthc3Ti",
        "outputId": "ab0ee382-db01-4a4b-e858-5896ff4fed34"
      },
      "outputs": [
        {
          "output_type": "stream",
          "name": "stderr",
          "text": [
            "/usr/local/lib/python3.7/dist-packages/seaborn/_decorators.py:43: FutureWarning: Pass the following variable as a keyword arg: x. From version 0.12, the only valid positional argument will be `data`, and passing other arguments without an explicit keyword will result in an error or misinterpretation.\n",
            "  FutureWarning\n"
          ]
        },
        {
          "output_type": "execute_result",
          "data": {
            "text/plain": [
              "<matplotlib.axes._subplots.AxesSubplot at 0x7f422073cfd0>"
            ]
          },
          "metadata": {},
          "execution_count": 8
        },
        {
          "output_type": "display_data",
          "data": {
            "text/plain": [
              "<Figure size 432x288 with 1 Axes>"
            ],
            "image/png": "[encoded data removed]"
          },
          "metadata": {
            "needs_background": "light"
          }
        }
      ],
      "source": [
        "sns.countplot(dataset_cricket['Polarity'])"
      ]
    },
    {
      "cell_type": "markdown",
      "metadata": {
        "id": "zaTvCrUkc3Tj"
      },
      "source": [
        "3 polarities in the Dataset"
      ]
    },
    {
      "cell_type": "markdown",
      "metadata": {
        "id": "3TACkVtrc3Tj"
      },
      "source": [
        "# Data Preprocessing"
      ]
    },
    {
      "cell_type": "markdown",
      "metadata": {
        "id": "tvIpfJHEc3Tk"
      },
      "source": [
        "1. Text to Word\n",
        "2. Removing Punctuations and Special Characters"
      ]
    },
    {
      "cell_type": "code",
      "execution_count": null,
      "metadata": {
        "id": "js-S-fWOc3Tk"
      },
      "outputs": [],
      "source": [
        "def text_to_word_list(text):\n",
        "    text = text.split()\n",
        "    return text\n",
        "\n",
        "def replace_strings(text):\n",
        "    emoji_pattern = re.compile(\"[\"\n",
        "                           u\"\\U0001F600-\\U0001F64F\"  # emoticons\n",
        "                           u\"\\U0001F300-\\U0001F5FF\"  # symbols & pictographs\n",
        "                           u\"\\U0001F680-\\U0001F6FF\"  # transport & map symbols\n",
        "                           u\"\\U0001F1E0-\\U0001F1FF\"  # flags (iOS)\n",
        "                           u\"\\U00002702-\\U000027B0\"\n",
        "                           u\"\\U000024C2-\\U0001F251\"\n",
        "                           u\"\\u00C0-\\u017F\"          #latin\n",
        "                           u\"\\u2000-\\u206F\"          #generalPunctuations\n",
        "                               \n",
        "                           \"]+\", flags=re.UNICODE)\n",
        "    english_pattern=re.compile('[a-zA-Z0-9]+', flags=re.I)\n",
        "    #latin_pattern=re.compile('[A-Za-z\\u00C0-\\u00D6\\u00D8-\\u00f6\\u00f8-\\u00ff\\s]*',)\n",
        "    \n",
        "    text=emoji_pattern.sub(r'', text)\n",
        "    text=english_pattern.sub(r'', text)\n",
        "\n",
        "    return text\n",
        "\n",
        "def remove_punctuations(my_str):\n",
        "    # define punctuation\n",
        "    punctuations = '''```\u0012\u0010\u0002\b`\u0007\b£|¢|\u0007Ñ+-*/=EROero৳০১২৩৪৫৬৭৮৯012–34567•89।!()-[]{};:'\"“\\’,<>./?@#$%^&*_~‘—॥”‰⚽️✌�￰৷￰'''\n",
        "    \n",
        "    no_punct = \"\"\n",
        "    for char in my_str:\n",
        "        if char not in punctuations:\n",
        "            no_punct = no_punct + char\n",
        "\n",
        "    # display the unpunctuated string\n",
        "    return no_punct\n",
        "\n",
        "\n",
        "\n",
        "def joining(text):\n",
        "    out=' '.join(text)\n",
        "    return out\n",
        "\n",
        "def preprocessing(text):\n",
        "    out=remove_punctuations(replace_strings(text))\n",
        "    return out"
      ]
    },
    {
      "cell_type": "code",
      "execution_count": null,
      "metadata": {
        "id": "gqE2v8_Kc3Tm"
      },
      "outputs": [],
      "source": [
        "dataset_cricket['Text'] = dataset_cricket.Text.apply(lambda x: preprocessing(str(x)))"
      ]
    },
    {
      "cell_type": "code",
      "execution_count": null,
      "metadata": {
        "id": "SWX2-95Cc3Tn"
      },
      "outputs": [],
      "source": [
        "dataset_cricket.reset_index(drop=True, inplace=True)\n"
      ]
    },
    {
      "cell_type": "code",
      "execution_count": null,
      "metadata": {
        "id": "3eJ5XGE5c3To"
      },
      "outputs": [],
      "source": [
        "enc = LabelEncoder()\n",
        "dataset_cricket['Polarity'] = enc.fit_transform(dataset_cricket['Polarity'])\n"
      ]
    },
    {
      "cell_type": "markdown",
      "metadata": {
        "id": "kXavvjpyc3To"
      },
      "source": [
        "Now we will prepare the dataset to train in the proposed CNN network.So, we have to convert all Sentences into a numpy Array.\n",
        "\n",
        "We have divided the training and testing data into 80/20 ratio.\n",
        "\n",
        "We have converted the sentiment values into one hot encodings for the convenient use in model training."
      ]
    },
    {
      "cell_type": "code",
      "execution_count": null,
      "metadata": {
        "colab": {
          "base_uri": "https://localhost:8080/"
        },
        "id": "s30s1Q7fc3To",
        "outputId": "e51ca425-943c-45f8-88e9-6f6c524461fd"
      },
      "outputs": [
        {
          "output_type": "stream",
          "name": "stdout",
          "text": [
            "Training Set Length: 2383\n",
            "Testing Set Length: 596\n",
            "training_sentences shape: (2383,)\n",
            "testing_sentences shape: (596,)\n",
            "train_labels shape: (2383, 3)\n",
            "test_labels shape: (596, 3)\n"
          ]
        }
      ],
      "source": [
        "train1, test1 = train_test_split(dataset_cricket,random_state=69, test_size=0.2)\n",
        "training_sentences_cricket = []\n",
        "testing_sentences_cricket = []\n",
        "\n",
        "\n",
        "\n",
        "train_sentences_cricket=train1['Text'].values\n",
        "train_labels_cricket=train1['Polarity'].values\n",
        "for i in range(train_sentences_cricket.shape[0]): \n",
        "    #print(train_sentences[i])\n",
        "    x=str(train_sentences_cricket[i])\n",
        "    training_sentences_cricket.append(x)\n",
        "    \n",
        "training_sentences_cricket=np.array(training_sentences_cricket)\n",
        "\n",
        "\n",
        "\n",
        "\n",
        "\n",
        "test_sentences_cricket=test1['Text'].values\n",
        "test_labels_cricket=test1['Polarity'].values\n",
        "\n",
        "for i in range(test_sentences_cricket.shape[0]): \n",
        "    x=str(test_sentences_cricket[i])\n",
        "    testing_sentences_cricket.append(x)\n",
        "    \n",
        "testing_sentences_cricket=np.array(testing_sentences_cricket)\n",
        "\n",
        "\n",
        "train_labels_cricket=tf.keras.utils.to_categorical(train_labels_cricket)\n",
        "\n",
        "\n",
        "test_labels_cricket=tf.keras.utils.to_categorical(test_labels_cricket)\n",
        "print(\"Training Set Length: \"+str(len(train1)))\n",
        "print(\"Testing Set Length: \"+str(len(test1)))\n",
        "print(\"training_sentences shape: \"+str(training_sentences_cricket.shape))\n",
        "print(\"testing_sentences shape: \"+str(testing_sentences_cricket.shape))\n",
        "print(\"train_labels shape: \"+str(train_labels_cricket.shape))\n",
        "print(\"test_labels shape: \"+str(test_labels_cricket.shape))"
      ]
    },
    {
      "cell_type": "code",
      "execution_count": null,
      "metadata": {
        "colab": {
          "base_uri": "https://localhost:8080/"
        },
        "id": "6VXws001c3Tp",
        "outputId": "e374a361-30ce-465d-f44f-6ebb8339d93f"
      },
      "outputs": [
        {
          "output_type": "stream",
          "name": "stdout",
          "text": [
            "নবাগত প্লেয়ার হয়েও চাপের মুখে দলের বিপদে চমৎকার একটি  রানের ইনিংস খেলেছেন লিটন\n",
            "[1. 0. 0.]\n"
          ]
        }
      ],
      "source": [
        "print(training_sentences_cricket[1])\n",
        "print(train_labels_cricket[0])"
      ]
    },
    {
      "cell_type": "markdown",
      "metadata": {
        "id": "Nf0HrNYUc3Tq"
      },
      "source": [
        "Now, we will predefine some variables.\n",
        "\n",
        "vocab_size is the maximum vocabulary length of Tokenizer.\n",
        "\n",
        "KERAS tokenzier allows to vectorize a text corpus, by turning each text into either a sequence of integers (each integer being the index of a token in a dictionary) or into a vector where the coefficient for each token could be binary, based on word count, based on tf-idf.\n",
        "\n",
        "We will be tokenizing my dataset with this class here. We have did this tokenization so that it can be later used to generate Embeddings.\n",
        "\n",
        "The main advantage of word embedding is that words that share a similar context can be represented close to each other in the vector space. Thus, vectors carry a sense of semantic of a word.\n",
        "\n",
        "We have predefined the embedding dimension as 300(embedding_dim).\n",
        "\n",
        "max_length is the sentence maximum length.\n",
        "\n",
        "trunc_type is the truncation type.\n",
        "\n",
        "oov_token is the token for the words that are not present in the corpus.oov means out of vocabulary."
      ]
    },
    {
      "cell_type": "code",
      "execution_count": null,
      "metadata": {
        "id": "1GiWTRGAc3Tq"
      },
      "outputs": [],
      "source": [
        "vocab_size = len(training_sentences_cricket)+1\n",
        "embedding_dim = 100\n",
        "max_length = 100\n",
        "trunc_type='post'\n",
        "oov_tok = \"<OOV>\""
      ]
    },
    {
      "cell_type": "code",
      "execution_count": null,
      "metadata": {
        "colab": {
          "base_uri": "https://localhost:8080/"
        },
        "id": "VrxQK379c3Tq",
        "outputId": "d2283663-8d0f-4d1f-d79d-3660894c3ebd"
      },
      "outputs": [
        {
          "output_type": "stream",
          "name": "stdout",
          "text": [
            "(2383,)\n",
            "(2383, 3)\n"
          ]
        }
      ],
      "source": [
        "print(training_sentences_cricket.shape)\n",
        "print(train_labels_cricket.shape)"
      ]
    },
    {
      "cell_type": "markdown",
      "metadata": {
        "id": "FVDubQMtc3Tr"
      },
      "source": [
        "At first, we will tokenize and then, we will be padding the sequences. We have used tokenizer only on training dataset to see how the model performs on unseen words."
      ]
    },
    {
      "cell_type": "code",
      "execution_count": null,
      "metadata": {
        "colab": {
          "base_uri": "https://localhost:8080/"
        },
        "id": "QTAYEQLPc3Tr",
        "outputId": "0818361b-bf62-458c-b197-eb1638919077"
      },
      "outputs": [
        {
          "output_type": "stream",
          "name": "stdout",
          "text": [
            "6414\n",
            "Word index length:6414\n"
          ]
        }
      ],
      "source": [
        "tokenizer = Tokenizer(num_words = vocab_size, oov_token=oov_tok)\n",
        "tokenizer.fit_on_texts(training_sentences_cricket)\n",
        "word_index = tokenizer.word_index\n",
        "print(len(word_index))\n",
        "print(\"Word index length:\"+str(len(tokenizer.word_index)))\n",
        "sequences = tokenizer.texts_to_sequences(training_sentences_cricket)\n",
        "padded = pad_sequences(sequences,maxlen=max_length, truncating=trunc_type)\n",
        "\n",
        "\n",
        "test_sequences = tokenizer.texts_to_sequences(testing_sentences_cricket)\n",
        "testing_padded = pad_sequences(test_sequences,maxlen=max_length)"
      ]
    },
    {
      "cell_type": "code",
      "execution_count": null,
      "metadata": {
        "colab": {
          "base_uri": "https://localhost:8080/"
        },
        "id": "nX5VnIjBc3Ts",
        "outputId": "4586c834-782a-40f1-dd2d-73f1df94aec1"
      },
      "outputs": [
        {
          "output_type": "stream",
          "name": "stdout",
          "text": [
            "Sentence :--> \n",
            "\n",
            "তারা কোথায় যারা বলেছিল হাতুরাসিংহে বনাম বাংলাদেশ এর খেলা\n",
            "\n",
            "Sentence Tokenized and Converted into Sequence :--> \n",
            "\n",
            "[70, 1514, 141, 859, 1, 460, 4, 19, 23]\n",
            "\n",
            "After Padding the Sequence with padding length 100 :--> \n",
            "\n",
            "[   0    0    0    0    0    0    0    0    0    0    0    0    0    0\n",
            "    0    0    0    0    0    0    0    0    0    0    0    0    0    0\n",
            "    0    0    0    0    0    0    0    0    0    0    0    0    0    0\n",
            "    0    0    0    0    0    0    0    0    0    0    0    0    0    0\n",
            "    0    0    0    0    0    0    0    0    0    0    0    0    0    0\n",
            "    0    0    0    0    0    0    0    0    0    0    0    0    0    0\n",
            "    0    0    0    0    0    0    0   70 1514  141  859    1  460    4\n",
            "   19   23]\n"
          ]
        }
      ],
      "source": [
        "print(\"Sentence :--> \\n\")\n",
        "print(training_sentences_cricket[2]+\"\\n\")\n",
        "print(\"Sentence Tokenized and Converted into Sequence :--> \\n\")\n",
        "print(str(sequences[2])+\"\\n\")\n",
        "print(\"After Padding the Sequence with padding length 100 :--> \\n\")\n",
        "print(padded[2])"
      ]
    },
    {
      "cell_type": "code",
      "execution_count": null,
      "metadata": {
        "colab": {
          "base_uri": "https://localhost:8080/"
        },
        "id": "5DHOvVtrc3Ts",
        "outputId": "afd775b1-246e-4624-a165-a0e95519ba96"
      },
      "outputs": [
        {
          "output_type": "stream",
          "name": "stdout",
          "text": [
            "Padded shape(training): (2383, 100)\n",
            "Padded shape(testing): (596, 100)\n"
          ]
        }
      ],
      "source": [
        "print(\"Padded shape(training): \"+str(padded.shape))\n",
        "print(\"Padded shape(testing): \"+str(testing_padded.shape))"
      ]
    },
    {
      "cell_type": "markdown",
      "metadata": {
        "id": "2g_N9Rync3Tt"
      },
      "source": [
        "# Model Creation"
      ]
    },
    {
      "cell_type": "markdown",
      "metadata": {
        "id": "lRtqj24mc3Tt"
      },
      "source": [
        "At first, we have created embeddings from the text."
      ]
    },
    {
      "cell_type": "code",
      "execution_count": null,
      "metadata": {
        "id": "NVzaOxd7c3Tt"
      },
      "outputs": [],
      "source": [
        "def precision(y_true, y_pred):\n",
        "    true_positives = K.sum(K.round(K.clip(y_true * y_pred, 0, 1)))\n",
        "    predicted_positives = K.sum(K.round(K.clip(y_pred, 0, 1)))\n",
        "    precision = true_positives / (predicted_positives + K.epsilon())\n",
        "    return precision\n",
        "\n",
        "def recall(y_true, y_pred):\n",
        "    true_positives = K.sum(K.round(K.clip(y_true * y_pred, 0, 1)))\n",
        "    possible_positives = K.sum(K.round(K.clip(y_true, 0, 1)))\n",
        "    recall = true_positives / (possible_positives + K.epsilon())\n",
        "    return recall\n",
        "\n",
        "def f1_score(y_true, y_pred):\n",
        "    pr = precision(y_true, y_pred)\n",
        "    rec = recall(y_true, y_pred)\n",
        "    f1_score = 2 * (pr * rec) / (pr + rec)\n",
        "    return f1_score"
      ]
    },
    {
      "cell_type": "code",
      "execution_count": null,
      "metadata": {
        "colab": {
          "base_uri": "https://localhost:8080/"
        },
        "id": "Wae5ImNfc3Tu",
        "outputId": "15afa608-91a5-4395-a895-16ed673b667e"
      },
      "outputs": [
        {
          "output_type": "execute_result",
          "data": {
            "text/plain": [
              "array([[1., 0., 0.],\n",
              "       [0., 0., 1.],\n",
              "       [1., 0., 0.],\n",
              "       ...,\n",
              "       [1., 0., 0.],\n",
              "       [1., 0., 0.],\n",
              "       [1., 0., 0.]], dtype=float32)"
            ]
          },
          "metadata": {},
          "execution_count": 21
        }
      ],
      "source": [
        "# padded\n",
        "train_labels_cricket"
      ]
    },
    {
      "cell_type": "code",
      "execution_count": null,
      "metadata": {
        "id": "USwDyE-Ec3Tu"
      },
      "outputs": [],
      "source": [
        "# raise NotImplementedError()"
      ]
    },
    {
      "cell_type": "code",
      "execution_count": null,
      "metadata": {
        "colab": {
          "base_uri": "https://localhost:8080/"
        },
        "id": "qDpXH-Qic3Tu",
        "outputId": "efb40b7c-b573-49cf-f6c1-789f4c995ddb"
      },
      "outputs": [
        {
          "output_type": "stream",
          "name": "stdout",
          "text": [
            "Model: \"sequential\"\n",
            "_________________________________________________________________\n",
            " Layer (type)                Output Shape              Param #   \n",
            "=================================================================\n",
            " embedding (Embedding)       (None, 100, 100)          238400    \n",
            "                                                                 \n",
            " conv1d (Conv1D)             (None, 98, 64)            19264     \n",
            "                                                                 \n",
            " batch_normalization (BatchN  (None, 98, 64)           256       \n",
            " ormalization)                                                   \n",
            "                                                                 \n",
            " activation (Activation)     (None, 98, 64)            0         \n",
            "                                                                 \n",
            " dropout (Dropout)           (None, 98, 64)            0         \n",
            "                                                                 \n",
            " conv1d_1 (Conv1D)           (None, 96, 96)            18528     \n",
            "                                                                 \n",
            " batch_normalization_1 (Batc  (None, 96, 96)           384       \n",
            " hNormalization)                                                 \n",
            "                                                                 \n",
            " activation_1 (Activation)   (None, 96, 96)            0         \n",
            "                                                                 \n",
            " conv1d_2 (Conv1D)           (None, 94, 128)           36992     \n",
            "                                                                 \n",
            " batch_normalization_2 (Batc  (None, 94, 128)          512       \n",
            " hNormalization)                                                 \n",
            "                                                                 \n",
            " activation_2 (Activation)   (None, 94, 128)           0         \n",
            "                                                                 \n",
            " dropout_1 (Dropout)         (None, 94, 128)           0         \n",
            "                                                                 \n",
            " flatten (Flatten)           (None, 12032)             0         \n",
            "                                                                 \n",
            " dense (Dense)               (None, 128)               1540224   \n",
            "                                                                 \n",
            " batch_normalization_3 (Batc  (None, 128)              512       \n",
            " hNormalization)                                                 \n",
            "                                                                 \n",
            " activation_3 (Activation)   (None, 128)               0         \n",
            "                                                                 \n",
            " flatten_1 (Flatten)         (None, 128)               0         \n",
            "                                                                 \n",
            " dense_1 (Dense)             (None, 64)                8256      \n",
            "                                                                 \n",
            " batch_normalization_4 (Batc  (None, 64)               256       \n",
            " hNormalization)                                                 \n",
            "                                                                 \n",
            " activation_4 (Activation)   (None, 64)                0         \n",
            "                                                                 \n",
            " dense_2 (Dense)             (None, 3)                 195       \n",
            "                                                                 \n",
            "=================================================================\n",
            "Total params: 1,863,779\n",
            "Trainable params: 1,862,819\n",
            "Non-trainable params: 960\n",
            "_________________________________________________________________\n"
          ]
        },
        {
          "output_type": "stream",
          "name": "stderr",
          "text": [
            "/usr/local/lib/python3.7/dist-packages/keras/optimizers/optimizer_v2/adam.py:110: UserWarning: The `lr` argument is deprecated, use `learning_rate` instead.\n",
            "  super(Adam, self).__init__(name, **kwargs)\n"
          ]
        }
      ],
      "source": [
        "# from tensorflow.keras.layers import GlobalMaxPooling1D\n",
        "\n",
        "detection=Sequential()\n",
        "\n",
        "detection.add(Embedding(vocab_size, embedding_dim, input_length=max_length))\n",
        "\n",
        "#1 -convolutional layer-1\n",
        "detection.add(Conv1D(64 ,kernel_size=3))\n",
        "detection.add(BatchNormalization())\n",
        "detection.add(Activation('relu'))\n",
        "# detection.add(GlobalMaxPooling1D())\n",
        "detection.add(Dropout(0.1))\n",
        "\n",
        "#2 -convolutional layer-2\n",
        "detection.add(Conv1D(96,kernel_size=3))\n",
        "detection.add(BatchNormalization())\n",
        "detection.add(Activation('relu'))\n",
        "# detection.add(GlobalMaxPooling1D())\n",
        "# detection.add(Dropout(0.2))\n",
        "\n",
        "#2 -convolutional layer-2\n",
        "detection.add(Conv1D(128,kernel_size=3))\n",
        "detection.add(BatchNormalization())\n",
        "detection.add(Activation('relu'))\n",
        "# detection.add(GlobalMaxPooling1D())\n",
        "detection.add(Dropout(0.15))\n",
        "\n",
        "\n",
        "# #2 -convolutional layer-2\n",
        "# detection.add(Conv1D(256,kernel_size=3))\n",
        "# detection.add(BatchNormalization())\n",
        "# detection.add(Activation('relu'))\n",
        "# # detection.add(MaxPooling2D(pool_size=(2,2)))\n",
        "# # detection.add(GlobalMaxPooling1D())\n",
        "# detection.add(Dropout(0.2))\n",
        "\n",
        "# #3 -convolutional layer-3\n",
        "# detection.add(Conv1D(384,kernel_size=3))\n",
        "# detection.add(BatchNormalization())\n",
        "# detection.add(Activation('relu'))\n",
        "# # detection.add(GlobalMaxPooling1D())\n",
        "# # detection.add(MaxPooling2D(pool_size=(2,2)))\n",
        "# # detection.add(UpSampling2D(input_shape=(512, 3, 3)))\n",
        "# detection.add(Dropout(0.2))\n",
        "\n",
        "# #3 -convolutional layer-3\n",
        "# detection.add(Conv1D(512,kernel_size=3))\n",
        "# detection.add(BatchNormalization())\n",
        "# detection.add(Activation('relu'))\n",
        "# # detection.add(GlobalMaxPooling1D())\n",
        "# # detection.add(MaxPooling2D(pool_size=(2,2)))\n",
        "# # detection.add(UpSampling2D(input_shape=(512, 3, 3)))\n",
        "# detection.add(Dropout(0.3))\n",
        "\n",
        "\n",
        "# detection.add(Flatten())\n",
        "# detection.add(Dense(512))\n",
        "# detection.add(BatchNormalization())\n",
        "# detection.add(Activation('relu'))\n",
        "\n",
        "# detection.add(Flatten())\n",
        "# detection.add(Dense(256))\n",
        "# detection.add(BatchNormalization())\n",
        "# detection.add(Activation('relu'))\n",
        "\n",
        "detection.add(Flatten())\n",
        "detection.add(Dense(128))\n",
        "detection.add(BatchNormalization())\n",
        "detection.add(Activation('relu'))\n",
        "\n",
        "detection.add(Flatten())\n",
        "detection.add(Dense(64))\n",
        "detection.add(BatchNormalization())\n",
        "detection.add(Activation('relu'))\n",
        "\n",
        "detection.add(Dense(3,activation='sigmoid'))\n",
        "optimum=Adam(lr=0.00001)\n",
        "detection.summary()\n",
        "detection.compile(optimizer=optimum,loss='binary_crossentropy',metrics=['accuracy', precision, recall])"
      ]
    },
    {
      "cell_type": "markdown",
      "metadata": {
        "id": "YHlUPY-Dc3Tv"
      },
      "source": [
        "Dividing training data to training and validation."
      ]
    },
    {
      "cell_type": "code",
      "execution_count": null,
      "metadata": {
        "id": "rMghKmrdc3Tv"
      },
      "outputs": [],
      "source": [
        "from sklearn.model_selection import train_test_split\n",
        "\n",
        "# Split the data\n",
        "x_train, x_valid, y_train, y_valid = train_test_split(padded, train_labels_cricket, test_size=0.15, shuffle= True) #data, label"
      ]
    },
    {
      "cell_type": "code",
      "execution_count": null,
      "metadata": {
        "colab": {
          "base_uri": "https://localhost:8080/"
        },
        "id": "rviXSqbhc3Tv",
        "outputId": "14078417-e39a-45ad-953e-6ec73c12e22c"
      },
      "outputs": [
        {
          "output_type": "stream",
          "name": "stdout",
          "text": [
            "Epoch 1/30\n",
            "507/507 [==============================] - 33s 59ms/step - loss: 0.8227 - accuracy: 0.2914 - precision: 0.2971 - recall: 0.4724 - val_loss: 0.7937 - val_accuracy: 0.1732 - val_precision: 0.1664 - val_recall: 0.1972\n",
            "Epoch 2/30\n",
            "507/507 [==============================] - 17s 34ms/step - loss: 0.7653 - accuracy: 0.3417 - precision: 0.3236 - recall: 0.4837 - val_loss: 0.7086 - val_accuracy: 0.4106 - val_precision: 0.3793 - val_recall: 0.5250\n",
            "Epoch 3/30\n",
            "507/507 [==============================] - 17s 34ms/step - loss: 0.7233 - accuracy: 0.4015 - precision: 0.3666 - recall: 0.5138 - val_loss: 0.6858 - val_accuracy: 0.4134 - val_precision: 0.3772 - val_recall: 0.4806\n",
            "Epoch 4/30\n",
            "507/507 [==============================] - 17s 35ms/step - loss: 0.6803 - accuracy: 0.4464 - precision: 0.4088 - recall: 0.5409 - val_loss: 0.6351 - val_accuracy: 0.5196 - val_precision: 0.4711 - val_recall: 0.4833\n",
            "Epoch 5/30\n",
            "507/507 [==============================] - 18s 35ms/step - loss: 0.6511 - accuracy: 0.4844 - precision: 0.4510 - recall: 0.5429 - val_loss: 0.6270 - val_accuracy: 0.5196 - val_precision: 0.4806 - val_recall: 0.4861\n",
            "Epoch 6/30\n",
            "507/507 [==============================] - 18s 35ms/step - loss: 0.6175 - accuracy: 0.5383 - precision: 0.4974 - recall: 0.5671 - val_loss: 0.5994 - val_accuracy: 0.5782 - val_precision: 0.5521 - val_recall: 0.5222\n",
            "Epoch 7/30\n",
            "507/507 [==============================] - 18s 36ms/step - loss: 0.5940 - accuracy: 0.5733 - precision: 0.5334 - recall: 0.5754 - val_loss: 0.5892 - val_accuracy: 0.6034 - val_precision: 0.5733 - val_recall: 0.5333\n",
            "Epoch 8/30\n",
            "507/507 [==============================] - 18s 36ms/step - loss: 0.5687 - accuracy: 0.6084 - precision: 0.5738 - recall: 0.5809 - val_loss: 0.5478 - val_accuracy: 0.6453 - val_precision: 0.6537 - val_recall: 0.5750\n",
            "Epoch 9/30\n",
            "507/507 [==============================] - 18s 35ms/step - loss: 0.5448 - accuracy: 0.6400 - precision: 0.6230 - recall: 0.5981 - val_loss: 0.5429 - val_accuracy: 0.6480 - val_precision: 0.6431 - val_recall: 0.5639\n",
            "Epoch 10/30\n",
            "507/507 [==============================] - 18s 35ms/step - loss: 0.5355 - accuracy: 0.6602 - precision: 0.6355 - recall: 0.5966 - val_loss: 0.5434 - val_accuracy: 0.6425 - val_precision: 0.6663 - val_recall: 0.5417\n",
            "Epoch 11/30\n",
            "507/507 [==============================] - 18s 35ms/step - loss: 0.5099 - accuracy: 0.6854 - precision: 0.6875 - recall: 0.6341 - val_loss: 0.5320 - val_accuracy: 0.6676 - val_precision: 0.6717 - val_recall: 0.5889\n",
            "Epoch 12/30\n",
            "507/507 [==============================] - 18s 35ms/step - loss: 0.5055 - accuracy: 0.6953 - precision: 0.6947 - recall: 0.6292 - val_loss: 0.5231 - val_accuracy: 0.6620 - val_precision: 0.6702 - val_recall: 0.6028\n",
            "Epoch 13/30\n",
            "507/507 [==============================] - 25s 48ms/step - loss: 0.4875 - accuracy: 0.7057 - precision: 0.7107 - recall: 0.6440 - val_loss: 0.5072 - val_accuracy: 0.6816 - val_precision: 0.7015 - val_recall: 0.5972\n",
            "Epoch 14/30\n",
            "507/507 [==============================] - 18s 35ms/step - loss: 0.4809 - accuracy: 0.7195 - precision: 0.7314 - recall: 0.6469 - val_loss: 0.5185 - val_accuracy: 0.6704 - val_precision: 0.7274 - val_recall: 0.5861\n",
            "Epoch 15/30\n",
            "507/507 [==============================] - 17s 34ms/step - loss: 0.4700 - accuracy: 0.7195 - precision: 0.7440 - recall: 0.6622 - val_loss: 0.4933 - val_accuracy: 0.6899 - val_precision: 0.7174 - val_recall: 0.6278\n",
            "Epoch 16/30\n",
            "507/507 [==============================] - 18s 35ms/step - loss: 0.4640 - accuracy: 0.7284 - precision: 0.7444 - recall: 0.6642 - val_loss: 0.4964 - val_accuracy: 0.6732 - val_precision: 0.7215 - val_recall: 0.6111\n",
            "Epoch 17/30\n",
            "507/507 [==============================] - 18s 35ms/step - loss: 0.4515 - accuracy: 0.7319 - precision: 0.7466 - recall: 0.6573 - val_loss: 0.4888 - val_accuracy: 0.6788 - val_precision: 0.7102 - val_recall: 0.6222\n",
            "Epoch 18/30\n",
            "507/507 [==============================] - 18s 36ms/step - loss: 0.4483 - accuracy: 0.7309 - precision: 0.7626 - recall: 0.6800 - val_loss: 0.4886 - val_accuracy: 0.6872 - val_precision: 0.6948 - val_recall: 0.6444\n",
            "Epoch 19/30\n",
            "507/507 [==============================] - 18s 35ms/step - loss: 0.4467 - accuracy: 0.7319 - precision: 0.7584 - recall: 0.6731 - val_loss: 0.4838 - val_accuracy: 0.6844 - val_precision: 0.7167 - val_recall: 0.6083\n",
            "Epoch 20/30\n",
            "507/507 [==============================] - 18s 35ms/step - loss: 0.4412 - accuracy: 0.7319 - precision: 0.7607 - recall: 0.6889 - val_loss: 0.4840 - val_accuracy: 0.6816 - val_precision: 0.7076 - val_recall: 0.6194\n",
            "Epoch 21/30\n",
            "507/507 [==============================] - 18s 35ms/step - loss: 0.4427 - accuracy: 0.7299 - precision: 0.7511 - recall: 0.6790 - val_loss: 0.4780 - val_accuracy: 0.6927 - val_precision: 0.7022 - val_recall: 0.6528\n",
            "Epoch 22/30\n",
            "507/507 [==============================] - 18s 35ms/step - loss: 0.4296 - accuracy: 0.7393 - precision: 0.7602 - recall: 0.6987 - val_loss: 0.4791 - val_accuracy: 0.6872 - val_precision: 0.7074 - val_recall: 0.6389\n",
            "Epoch 23/30\n",
            "507/507 [==============================] - 18s 35ms/step - loss: 0.4307 - accuracy: 0.7343 - precision: 0.7594 - recall: 0.6997 - val_loss: 0.4747 - val_accuracy: 0.6927 - val_precision: 0.6978 - val_recall: 0.6528\n",
            "Epoch 24/30\n",
            "507/507 [==============================] - 18s 35ms/step - loss: 0.4270 - accuracy: 0.7383 - precision: 0.7575 - recall: 0.6943 - val_loss: 0.4708 - val_accuracy: 0.6927 - val_precision: 0.7022 - val_recall: 0.6667\n",
            "Epoch 25/30\n",
            "507/507 [==============================] - 18s 35ms/step - loss: 0.4200 - accuracy: 0.7373 - precision: 0.7639 - recall: 0.6898 - val_loss: 0.4721 - val_accuracy: 0.6872 - val_precision: 0.7107 - val_recall: 0.6167\n",
            "Epoch 26/30\n",
            "507/507 [==============================] - 18s 35ms/step - loss: 0.4134 - accuracy: 0.7452 - precision: 0.7732 - recall: 0.6987 - val_loss: 0.4706 - val_accuracy: 0.6955 - val_precision: 0.7117 - val_recall: 0.6278\n",
            "Epoch 27/30\n",
            "507/507 [==============================] - 18s 35ms/step - loss: 0.4134 - accuracy: 0.7447 - precision: 0.7761 - recall: 0.7051 - val_loss: 0.4765 - val_accuracy: 0.6788 - val_precision: 0.7035 - val_recall: 0.6250\n",
            "Epoch 28/30\n",
            "507/507 [==============================] - 18s 35ms/step - loss: 0.4079 - accuracy: 0.7393 - precision: 0.7651 - recall: 0.7022 - val_loss: 0.4736 - val_accuracy: 0.6816 - val_precision: 0.7217 - val_recall: 0.6250\n",
            "Epoch 29/30\n",
            "507/507 [==============================] - 18s 35ms/step - loss: 0.4057 - accuracy: 0.7427 - precision: 0.7747 - recall: 0.6997 - val_loss: 0.4769 - val_accuracy: 0.6844 - val_precision: 0.7170 - val_recall: 0.6250\n",
            "Epoch 30/30\n",
            "507/507 [==============================] - 18s 35ms/step - loss: 0.4047 - accuracy: 0.7402 - precision: 0.7634 - recall: 0.7012 - val_loss: 0.4706 - val_accuracy: 0.6760 - val_precision: 0.7189 - val_recall: 0.6333\n"
          ]
        }
      ],
      "source": [
        "model_cricket = detection.fit(x_train, y_train,shuffle=True,epochs=30,batch_size=4,validation_data=(x_valid,y_valid))#,use_multiprocessing=True, workers=8)\n",
        "# model_cricket=detection.fit(padded,train_labels_cricket,shuffle=True,epochs=30,batch_size=16,validation_data=(testing_padded,test_labels_cricket),use_multiprocessing=True, workers=8) #input, output"
      ]
    },
    {
      "cell_type": "code",
      "execution_count": null,
      "metadata": {
        "colab": {
          "base_uri": "https://localhost:8080/"
        },
        "id": "adfbKwqQc3Tw",
        "outputId": "2e6f2184-cdb1-429b-b922-e26bc71f3757"
      },
      "outputs": [
        {
          "output_type": "stream",
          "name": "stdout",
          "text": [
            "19/19 [==============================] - 0s 18ms/step - loss: 0.4893 - accuracy: 0.6879 - precision: 0.6992 - recall: 0.6276\n"
          ]
        },
        {
          "output_type": "execute_result",
          "data": {
            "text/plain": [
              "[0.4892771244049072, 0.6879194378852844, 0.699246346950531, 0.6276316046714783]"
            ]
          },
          "metadata": {},
          "execution_count": 26
        }
      ],
      "source": [
        "detection.evaluate(x=testing_padded,y=test_labels_cricket,verbose=1)\n",
        "# loss: - accuracy: - recall:  - precision:"
      ]
    },
    {
      "cell_type": "code",
      "execution_count": null,
      "metadata": {
        "colab": {
          "base_uri": "https://localhost:8080/",
          "height": 298
        },
        "id": "XyKJQkHfc3Tw",
        "outputId": "55872982-6895-48be-e895-1731c4bbeed7"
      },
      "outputs": [
        {
          "output_type": "display_data",
          "data": {
            "text/plain": [
              "<Figure size 432x288 with 1 Axes>"
            ],
            "image/png": "[encoded data removed]"
          },
          "metadata": {
            "needs_background": "light"
          }
        },
        {
          "output_type": "display_data",
          "data": {
            "text/plain": [
              "<Figure size 432x288 with 0 Axes>"
            ]
          },
          "metadata": {}
        }
      ],
      "source": [
        "plt.plot(model_cricket.history['loss'], label='loss_train')\n",
        "plt.plot(model_cricket.history['val_loss'], label='loss_val')\n",
        "# plt.plot(mod.history['accuracy'], label='acc_train')\n",
        "# plt.plot(mod.history['val_accuracy'], label='acc_val')\n",
        "plt.legend()\n",
        "plt.title('Train Val_Loss in Proposed Neural Network')\n",
        "plt.show()\n",
        "plt.savefig('LossVal_Loss')"
      ]
    },
    {
      "cell_type": "code",
      "execution_count": null,
      "metadata": {
        "colab": {
          "base_uri": "https://localhost:8080/",
          "height": 298
        },
        "id": "4GRIWVmwc3Tw",
        "outputId": "611fab77-1b1a-4165-daf4-6bb2fd43b93c"
      },
      "outputs": [
        {
          "output_type": "display_data",
          "data": {
            "text/plain": [
              "<Figure size 432x288 with 1 Axes>"
            ],
            "image/png": "[encoded data removed]"
          },
          "metadata": {
            "needs_background": "light"
          }
        },
        {
          "output_type": "display_data",
          "data": {
            "text/plain": [
              "<Figure size 432x288 with 0 Axes>"
            ]
          },
          "metadata": {}
        }
      ],
      "source": [
        "plt.plot(model_cricket.history['accuracy'], label='train acc')\n",
        "plt.plot(model_cricket.history['val_accuracy'], label='val acc')\n",
        "plt.legend()\n",
        "plt.title('TrainVal_Acc in Proposed Neural Network')\n",
        "plt.show()\n",
        "plt.savefig('AccVal_Acc')"
      ]
    }
  ],
  "metadata": {
    "interpreter": {
      "hash": "e896f58382219557ed1cd87260c67d9e69d66db56889d9cde40c814aa57c370f"
    },
    "kernelspec": {
      "display_name": "Python 3.6.13 ('tf_gpu')",
      "language": "python",
      "name": "python3"
    },
    "language_info": {
      "codemirror_mode": {
        "name": "ipython",
        "version": 3
      },
      "file_extension": ".py",
      "mimetype": "text/x-python",
      "name": "python",
      "nbconvert_exporter": "python",
      "pygments_lexer": "ipython3",
      "version": "3.6.13"
    },
    "orig_nbformat": 4,
    "colab": {
      "provenance": [],
      "include_colab_link": true
    }
  },
  "nbformat": 4,
  "nbformat_minor": 0
}