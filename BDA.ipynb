{
  "nbformat": 4,
  "nbformat_minor": 0,
  "metadata": {
    "colab": {
      "provenance": [],
      "collapsed_sections": [],
      "authorship_tag": "ABX9TyNDvEmiRi5wwQjEpL/3vdkw",
      "include_colab_link": true
    },
    "kernelspec": {
      "name": "python3",
      "display_name": "Python 3"
    },
    "language_info": {
      "name": "python"
    }
  },
  "cells": [
    {
      "cell_type": "markdown",
      "metadata": {
        "id": "view-in-github",
        "colab_type": "text"
      },
      "source": [
        "<a href=\"https://colab.research.google.com/github/aschauhan241/git_test/blob/main/BDA.ipynb\" target=\"_parent\"><img src=\"https://colab.research.google.com/assets/colab-badge.svg\" alt=\"Open In Colab\"/></a>"
      ]
    },
    {
      "cell_type": "code",
      "execution_count": 3,
      "metadata": {
        "colab": {
          "base_uri": "https://localhost:8080/"
        },
        "id": "A2OdrJUm2j2m",
        "outputId": "03d457ab-3bc6-44ce-fe37-08675c348db3"
      },
      "outputs": [
        {
          "output_type": "stream",
          "name": "stdout",
          "text": [
            "Drive already mounted at /content/drive; to attempt to forcibly remount, call drive.mount(\"/content/drive\", force_remount=True).\n"
          ]
        }
      ],
      "source": [
        "from google.colab import drive\n",
        "drive.mount('/content/drive')"
      ]
    },
    {
      "cell_type": "code",
      "source": [
        "pip install pyspark"
      ],
      "metadata": {
        "colab": {
          "base_uri": "https://localhost:8080/"
        },
        "id": "yukfxvoR3G6c",
        "outputId": "8596681e-bf31-46a3-fae6-87d5b768fd7e"
      },
      "execution_count": 4,
      "outputs": [
        {
          "output_type": "stream",
          "name": "stdout",
          "text": [
            "Looking in indexes: https://pypi.org/simple, https://us-python.pkg.dev/colab-wheels/public/simple/\n",
            "Collecting pyspark\n",
            "  Downloading pyspark-3.3.1.tar.gz (281.4 MB)\n",
            "\u001b[K     |████████████████████████████████| 281.4 MB 40 kB/s \n",
            "\u001b[?25hCollecting py4j==0.10.9.5\n",
            "  Downloading py4j-0.10.9.5-py2.py3-none-any.whl (199 kB)\n",
            "\u001b[K     |████████████████████████████████| 199 kB 50.0 MB/s \n",
            "\u001b[?25hBuilding wheels for collected packages: pyspark\n",
            "  Building wheel for pyspark (setup.py) ... \u001b[?25l\u001b[?25hdone\n",
            "  Created wheel for pyspark: filename=pyspark-3.3.1-py2.py3-none-any.whl size=281845513 sha256=5625c7329cc42acf49c17808e3e8ae009b642717e46c012073521cf6ad39b308\n",
            "  Stored in directory: /root/.cache/pip/wheels/42/59/f5/79a5bf931714dcd201b26025347785f087370a10a3329a899c\n",
            "Successfully built pyspark\n",
            "Installing collected packages: py4j, pyspark\n",
            "Successfully installed py4j-0.10.9.5 pyspark-3.3.1\n"
          ]
        }
      ]
    },
    {
      "cell_type": "code",
      "source": [
        "from pyspark.sql import SparkSession\n",
        "spark = SparkSession.builder.appName(\"walmart\").getOrCreate()"
      ],
      "metadata": {
        "id": "wBOTzRTx2smB"
      },
      "execution_count": 5,
      "outputs": []
    },
    {
      "cell_type": "code",
      "source": [
        "df = spark.read.csv('/content/drive/MyDrive/BDA projecy/WMT.csv',header=True,inferSchema=True)"
      ],
      "metadata": {
        "id": "tJ2ppe5h27mv"
      },
      "execution_count": 6,
      "outputs": []
    },
    {
      "cell_type": "code",
      "source": [
        "df.columns"
      ],
      "metadata": {
        "colab": {
          "base_uri": "https://localhost:8080/"
        },
        "id": "AKXL9B5h3fTu",
        "outputId": "d042fe2d-bd04-4b51-ea5c-cac8801726d9"
      },
      "execution_count": 7,
      "outputs": [
        {
          "output_type": "execute_result",
          "data": {
            "text/plain": [
              "['Date', 'Open', 'High', 'Low', 'Close', 'Adj Close', 'Volume']"
            ]
          },
          "metadata": {},
          "execution_count": 7
        }
      ]
    },
    {
      "cell_type": "code",
      "source": [
        "df.printSchema()"
      ],
      "metadata": {
        "colab": {
          "base_uri": "https://localhost:8080/"
        },
        "id": "fcYecDAs3kbN",
        "outputId": "e4858598-5f69-4a35-c128-787986e540fa"
      },
      "execution_count": 8,
      "outputs": [
        {
          "output_type": "stream",
          "name": "stdout",
          "text": [
            "root\n",
            " |-- Date: timestamp (nullable = true)\n",
            " |-- Open: double (nullable = true)\n",
            " |-- High: double (nullable = true)\n",
            " |-- Low: double (nullable = true)\n",
            " |-- Close: double (nullable = true)\n",
            " |-- Adj Close: double (nullable = true)\n",
            " |-- Volume: integer (nullable = true)\n",
            "\n"
          ]
        }
      ]
    },
    {
      "cell_type": "code",
      "source": [
        "#Print out the first 5 columns.\n",
        "\n",
        "df.head(5)"
      ],
      "metadata": {
        "colab": {
          "base_uri": "https://localhost:8080/"
        },
        "id": "E8ykYZNf3nuW",
        "outputId": "5cacd5bc-f569-411c-c0ba-ad6dfd412c1a"
      },
      "execution_count": 9,
      "outputs": [
        {
          "output_type": "execute_result",
          "data": {
            "text/plain": [
              "[Row(Date=datetime.datetime(1972, 8, 25, 0, 0), Open=0.063477, High=0.064697, Low=0.063477, Close=0.064453, Adj Close=0.036447, Volume=2508800),\n",
              " Row(Date=datetime.datetime(1972, 8, 28, 0, 0), Open=0.064453, High=0.064941, Low=0.064209, Close=0.064209, Adj Close=0.036309, Volume=972800),\n",
              " Row(Date=datetime.datetime(1972, 8, 29, 0, 0), Open=0.063965, High=0.063965, Low=0.063477, Close=0.063477, Adj Close=0.035895, Volume=1945600),\n",
              " Row(Date=datetime.datetime(1972, 8, 30, 0, 0), Open=0.063477, High=0.063477, Low=0.062988, Close=0.063477, Adj Close=0.035895, Volume=409600),\n",
              " Row(Date=datetime.datetime(1972, 8, 31, 0, 0), Open=0.062988, High=0.062988, Low=0.0625, Close=0.0625, Adj Close=0.035343, Volume=870400)]"
            ]
          },
          "metadata": {},
          "execution_count": 9
        }
      ]
    },
    {
      "cell_type": "code",
      "source": [
        "df.describe().show()"
      ],
      "metadata": {
        "colab": {
          "base_uri": "https://localhost:8080/"
        },
        "id": "Tsk271qa3wM9",
        "outputId": "b5858638-2c61-4046-c926-c9499bc83c14"
      },
      "execution_count": 10,
      "outputs": [
        {
          "output_type": "stream",
          "name": "stdout",
          "text": [
            "+-------+-----------------+------------------+------------------+------------------+------------------+-----------------+\n",
            "|summary|             Open|              High|               Low|             Close|         Adj Close|           Volume|\n",
            "+-------+-----------------+------------------+------------------+------------------+------------------+-----------------+\n",
            "|  count|            12491|             12491|             12491|             12491|             12491|            12491|\n",
            "|   mean|35.47919765615241|35.811310182371315|35.151301605716114| 35.48537980233778|28.948680092146382|7540559.743735489|\n",
            "| stddev|37.20707114804321| 37.51941889361142| 36.91418633394463|37.214409106712566|34.585374876991864|6237161.700819969|\n",
            "|    min|         0.015625|          0.015625|          0.014404|          0.015625|          0.008889|                0|\n",
            "|    max|       153.600006|        153.660004|        151.660004|        152.789993|        150.842651|        131833600|\n",
            "+-------+-----------------+------------------+------------------+------------------+------------------+-----------------+\n",
            "\n"
          ]
        }
      ]
    },
    {
      "cell_type": "code",
      "source": [
        "df.describe().printSchema()"
      ],
      "metadata": {
        "colab": {
          "base_uri": "https://localhost:8080/"
        },
        "id": "5DQfjEKS30em",
        "outputId": "d41351e4-2fbe-4715-dd80-02e21d38f0af"
      },
      "execution_count": 11,
      "outputs": [
        {
          "output_type": "stream",
          "name": "stdout",
          "text": [
            "root\n",
            " |-- summary: string (nullable = true)\n",
            " |-- Open: string (nullable = true)\n",
            " |-- High: string (nullable = true)\n",
            " |-- Low: string (nullable = true)\n",
            " |-- Close: string (nullable = true)\n",
            " |-- Adj Close: string (nullable = true)\n",
            " |-- Volume: string (nullable = true)\n",
            "\n"
          ]
        }
      ]
    },
    {
      "cell_type": "code",
      "source": [
        "from pyspark.sql.functions import format_number"
      ],
      "metadata": {
        "id": "OwT7Mw2-35Y1"
      },
      "execution_count": 12,
      "outputs": []
    },
    {
      "cell_type": "code",
      "source": [
        "result = df.describe()\n",
        "result.select(result['summary'],\n",
        "              format_number(result['Open'].cast('float'),2).alias('Open'),\n",
        "              format_number(result['High'].cast('float'),2).alias('High'),\n",
        "              format_number(result['Low'].cast('float'),2).alias('Low'),\n",
        "              format_number(result['Close'].cast('float'),2).alias('Close'),\n",
        "              result['Volume'].cast('int').alias('Volume')\n",
        "             ).show()"
      ],
      "metadata": {
        "colab": {
          "base_uri": "https://localhost:8080/"
        },
        "id": "_uz5dx7D38zd",
        "outputId": "c4a5a8f9-b232-4a1b-ccc7-edcede587bac"
      },
      "execution_count": 13,
      "outputs": [
        {
          "output_type": "stream",
          "name": "stdout",
          "text": [
            "+-------+---------+---------+---------+---------+---------+\n",
            "|summary|     Open|     High|      Low|    Close|   Volume|\n",
            "+-------+---------+---------+---------+---------+---------+\n",
            "|  count|12,491.00|12,491.00|12,491.00|12,491.00|    12491|\n",
            "|   mean|    35.48|    35.81|    35.15|    35.49|  7540559|\n",
            "| stddev|    37.21|    37.52|    36.91|    37.21|  6237161|\n",
            "|    min|     0.02|     0.02|     0.01|     0.02|        0|\n",
            "|    max|   153.60|   153.66|   151.66|   152.79|131833600|\n",
            "+-------+---------+---------+---------+---------+---------+\n",
            "\n"
          ]
        }
      ]
    },
    {
      "cell_type": "code",
      "source": [
        "#Create a new dataframe with a column called HV Ratio that is the ratio of the \n",
        "#High Price versus volume of stock traded for a day.\n",
        "\n",
        "\n",
        "df2 = df.withColumn(\"HV Ratio\",df[\"High\"]/df[\"Volume\"])#.show()\n",
        "# df2.show()\n",
        "df2.select('HV Ratio').show()"
      ],
      "metadata": {
        "colab": {
          "base_uri": "https://localhost:8080/"
        },
        "id": "TKOHlSHO3_JN",
        "outputId": "0d002597-7f19-48fd-c950-a2b20e1a03b4"
      },
      "execution_count": 14,
      "outputs": [
        {
          "output_type": "stream",
          "name": "stdout",
          "text": [
            "+--------------------+\n",
            "|            HV Ratio|\n",
            "+--------------------+\n",
            "|2.578802614795918...|\n",
            "|6.675678453947369E-8|\n",
            "|3.287674753289473E-8|\n",
            "|1.549731445312500...|\n",
            "|7.236672794117647E-8|\n",
            "|       2.46046875E-7|\n",
            "|1.118394886363636...|\n",
            "|       2.46046875E-7|\n",
            "|5.348845108695652...|\n",
            "|9.390024038461538E-8|\n",
            "|6.808159722222221E-8|\n",
            "|1.021223958333333...|\n",
            "|4.084895833333333E-7|\n",
            "|             4.94E-8|\n",
            "|      1.230234375E-7|\n",
            "|5.880952380952380...|\n",
            "|2.008965163934426E-8|\n",
            "|1.211171874999999...|\n",
            "|    4.29150390625E-8|\n",
            "|6.872012867647059E-8|\n",
            "+--------------------+\n",
            "only showing top 20 rows\n",
            "\n"
          ]
        }
      ]
    },
    {
      "cell_type": "code",
      "source": [
        "# What day had the Peak High in Price?\n",
        "df.orderBy(df[\"High\"].desc()).head(1)[0][0]"
      ],
      "metadata": {
        "colab": {
          "base_uri": "https://localhost:8080/"
        },
        "id": "HktlamJo4IxX",
        "outputId": "e7c509b4-79e2-470e-849c-9cbb55bbd444"
      },
      "execution_count": 15,
      "outputs": [
        {
          "output_type": "execute_result",
          "data": {
            "text/plain": [
              "datetime.datetime(2020, 12, 1, 0, 0)"
            ]
          },
          "metadata": {},
          "execution_count": 15
        }
      ]
    },
    {
      "cell_type": "code",
      "source": [
        "# What is the mean of the Close column?\n",
        "from pyspark.sql.functions import mean\n",
        "df.select(mean(\"Close\")).show()"
      ],
      "metadata": {
        "colab": {
          "base_uri": "https://localhost:8080/"
        },
        "id": "6noTLA_R4OT9",
        "outputId": "3751c2d7-0cfb-4f00-d2a7-97b979c51381"
      },
      "execution_count": 16,
      "outputs": [
        {
          "output_type": "stream",
          "name": "stdout",
          "text": [
            "+-----------------+\n",
            "|       avg(Close)|\n",
            "+-----------------+\n",
            "|35.48537980233778|\n",
            "+-----------------+\n",
            "\n"
          ]
        }
      ]
    },
    {
      "cell_type": "code",
      "source": [
        "# What is the max and min of the Volume column?\n",
        "from pyspark.sql.functions import max,min\n",
        "df.select(max(\"Volume\"),min(\"Volume\")).show()"
      ],
      "metadata": {
        "colab": {
          "base_uri": "https://localhost:8080/"
        },
        "id": "kyztu_RE4UzN",
        "outputId": "073752d4-3324-46a8-984b-56fa91eb03db"
      },
      "execution_count": 17,
      "outputs": [
        {
          "output_type": "stream",
          "name": "stdout",
          "text": [
            "+-----------+-----------+\n",
            "|max(Volume)|min(Volume)|\n",
            "+-----------+-----------+\n",
            "|  131833600|          0|\n",
            "+-----------+-----------+\n",
            "\n"
          ]
        }
      ]
    },
    {
      "cell_type": "code",
      "source": [
        "#What is the max High per year?\n",
        "from pyspark.sql.functions import year\n",
        "yeardf = df.withColumn(\"Year\",year(df[\"Date\"]))\n",
        "max_df = yeardf.groupBy('Year').max()\n",
        "max_df.select('Year','max(High)').show()"
      ],
      "metadata": {
        "colab": {
          "base_uri": "https://localhost:8080/"
        },
        "id": "GmM9I4q44duF",
        "outputId": "dcccf2d9-aeb3-4f9e-838d-38fce96f12cc"
      },
      "execution_count": 18,
      "outputs": [
        {
          "output_type": "stream",
          "name": "stdout",
          "text": [
            "+----+----------+\n",
            "|Year| max(High)|\n",
            "+----+----------+\n",
            "|1990|    9.1875|\n",
            "|1975|  0.061523|\n",
            "|1977|  0.080078|\n",
            "|2003| 60.200001|\n",
            "|2007| 51.439999|\n",
            "|2018|109.980003|\n",
            "|1974|  0.040039|\n",
            "|2015| 90.970001|\n",
            "|2006| 52.150002|\n",
            "|1978|  0.114746|\n",
            "|2022|146.630005|\n",
            "|2013| 81.370003|\n",
            "|1988|  4.234375|\n",
            "|1997|  20.96875|\n",
            "|1994|    14.625|\n",
            "|2014| 88.089996|\n",
            "|1973|  0.068115|\n",
            "|1979|  0.143555|\n",
            "|2019|125.379997|\n",
            "|2004| 61.310001|\n",
            "+----+----------+\n",
            "only showing top 20 rows\n",
            "\n"
          ]
        }
      ]
    },
    {
      "cell_type": "code",
      "source": [
        "# What is the average Close for each Calendar Month?\n",
        "#In other words, across all the years, what is the average Close price for Jan,Feb, Mar, etc...\n",
        " #Your result will have a value for each of these months.\n",
        "\n",
        "from pyspark.sql.functions import month\n",
        "monthdf = df.withColumn(\"Month\",month(\"Date\"))\n",
        "monthavgs = monthdf.select(\"Month\",\"Close\").groupBy(\"Month\").mean()\n",
        "monthavgs.select(\"Month\",\"avg(Close)\").orderBy('Month').show()"
      ],
      "metadata": {
        "colab": {
          "base_uri": "https://localhost:8080/"
        },
        "id": "id3jrsui4pKk",
        "outputId": "f26bab63-8225-4df5-b13a-e73119e5952d"
      },
      "execution_count": 20,
      "outputs": [
        {
          "output_type": "stream",
          "name": "stdout",
          "text": [
            "+-----+------------------+\n",
            "|Month|        avg(Close)|\n",
            "+-----+------------------+\n",
            "|    1| 35.66998774855494|\n",
            "|    2|36.259627149269285|\n",
            "|    3| 34.80272272727273|\n",
            "|    4| 35.16701819447185|\n",
            "|    5| 34.66763651447876|\n",
            "|    6| 34.97434812786258|\n",
            "|    7| 35.73718895173742|\n",
            "|    8| 35.36014060733945|\n",
            "|    9| 35.04383120492605|\n",
            "|   10| 35.25492305877033|\n",
            "|   11| 36.44846344062804|\n",
            "|   12| 36.53386848481972|\n",
            "+-----+------------------+\n",
            "\n"
          ]
        }
      ]
    },
    {
      "cell_type": "code",
      "source": [
        "import seaborn as sns\n",
        "import matplotlib.pyplot as plt\n",
        "import numpy as np \n",
        "import pandas as pd\n",
        "\n",
        "df = pd.read_csv('/content/drive/MyDrive/BDA projecy/WMT.csv')\n",
        "plt.figure(figsize= (10,8))\n",
        "df['Close'].plot()\n",
        "plt.show()"
      ],
      "metadata": {
        "colab": {
          "base_uri": "https://localhost:8080/",
          "height": 486
        },
        "id": "0Q6KNiv341Nc",
        "outputId": "da7a5cec-c8c6-46a8-ad19-0d5464d2f639"
      },
      "execution_count": 22,
      "outputs": [
        {
          "output_type": "display_data",
          "data": {
            "text/plain": [
              "<Figure size 720x576 with 1 Axes>"
            ],
            "image/png": "[encoded data removed]"
          },
          "metadata": {
            "needs_background": "light"
          }
        }
      ]
    },
    {
      "cell_type": "code",
      "source": [
        "plt.figure(figsize= (10,8))\n",
        "df['Open'].plot()\n",
        "plt.show()"
      ],
      "metadata": {
        "colab": {
          "base_uri": "https://localhost:8080/",
          "height": 483
        },
        "id": "bhleuQUq5Rs8",
        "outputId": "3e44e86d-502c-4cec-bde2-dfd13ab6521d"
      },
      "execution_count": 25,
      "outputs": [
        {
          "output_type": "display_data",
          "data": {
            "text/plain": [
              "<Figure size 720x576 with 1 Axes>"
            ],
            "image/png": "[encoded data removed]"
          },
          "metadata": {
            "needs_background": "light"
          }
        }
      ]
    },
    {
      "cell_type": "code",
      "source": [],
      "metadata": {
        "id": "aRgcT9KS5tL8"
      },
      "execution_count": null,
      "outputs": []
    }
  ]
}